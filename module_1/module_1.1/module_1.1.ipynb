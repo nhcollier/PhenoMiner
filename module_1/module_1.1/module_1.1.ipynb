{
  "nbformat": 4,
  "nbformat_minor": 0,
  "metadata": {
    "colab": {
      "name": "module_1.1.ipynb",
      "provenance": []
    },
    "kernelspec": {
      "display_name": "Python 3",
      "language": "python",
      "name": "python3"
    },
    "language_info": {
      "codemirror_mode": {
        "name": "ipython",
        "version": 3
      },
      "file_extension": ".py",
      "mimetype": "text/x-python",
      "name": "python",
      "nbconvert_exporter": "python",
      "pygments_lexer": "ipython3",
      "version": "3.8.2"
    },
    "toc": {
      "base_numbering": 1,
      "nav_menu": {},
      "number_sections": false,
      "sideBar": true,
      "skip_h1_title": false,
      "title_cell": "Table of Contents",
      "title_sidebar": "Contents",
      "toc_cell": false,
      "toc_position": {},
      "toc_section_display": true,
      "toc_window_display": false
    },
    "varInspector": {
      "cols": {
        "lenName": 16,
        "lenType": 16,
        "lenVar": 40
      },
      "kernels_config": {
        "python": {
          "delete_cmd_postfix": "",
          "delete_cmd_prefix": "del ",
          "library": "var_list.py",
          "varRefreshCmd": "print(var_dic_list())"
        },
        "r": {
          "delete_cmd_postfix": ") ",
          "delete_cmd_prefix": "rm(",
          "library": "var_list.r",
          "varRefreshCmd": "cat(var_dic_list()) "
        }
      },
      "types_to_exclude": [
        "module",
        "function",
        "builtin_function_or_method",
        "instance",
        "_Feature"
      ],
      "window_display": false
    }
  },
  "cells": [
    {
      "cell_type": "markdown",
      "metadata": {
        "id": "wYUakw2PD9wM"
      },
      "source": [
        "# Python for Computational Linguists 1.1: About the Course"
      ]
    },
    {
      "cell_type": "markdown",
      "metadata": {
        "id": "GBcI8JqHCsX5"
      },
      "source": [
        "# 1.1: About Python for Computational Linguists (And why study Python?)\n",
        "\n"
      ]
    },
    {
      "cell_type": "markdown",
      "metadata": {
        "id": "pACpEfn0Fl9O"
      },
      "source": [
        "## Welcome!\n",
        "\n",
        "![Nigel](https://github.com/cambridgeltl/python4cl/blob/master/module_1/module_1.1/nigel.jpg?raw=1)\n",
        "\n",
        "Welcome everyone! This Jupyter Notebook that you're looking at right now is part of the **Python for Computational Linguists lab** which is specially designed to accompany the Li18 Computational Linguistics course in the School of Arts and Humanities at the University of Cambridge.\n",
        "\n",
        "The Python practical is aimed at those new to programming and provides an introduction to **Python version 3.6** with a focus specifically on Natural Language Processing (NLP). By the end of this course, you should feel confident to write simple Python programs for a variety of purposes and understand more complex Python programs written by others.\n",
        "\n",
        "*Why study Python programming?*\n",
        "\n",
        "Good question! The *short answer* is that Python is a great practical skill if you want to work with data to answer linguistic questions (corpus linguistics) or build models that can analyse, process and generate text (NLP). Learning programming also helps you develop problem solving skills which are very transferable.\n",
        "\n",
        "And here's the long answer ...\n",
        "\n",
        "* Computational Linguistics is a broad and intellectually demanding subject that draws on several academic disciplines but at its core it is also essentially a practical subject. We believe that part of the training to become a great Computational Linguist should be to become confident in applying NLP methods to gain real insights from real corpus data. Our aim in this these Python labs ('PyCompLing') is to give you a gentle introduction to Python 3 programming that is *custom-made* for Computational Linguists. If your interest at the moment is more on the theory (we hope you'll soon get hooked on programming!) then you can think that the skills you learn in the Python classes will provide a functional context for the concepts you are studying in the lectures. And if you wish to pursue the subject further then the skills you learn here should equip you for more advanced study, e.g. in a 3rd year project or in MPhil research.  \n",
        "\n",
        "* Python 3 is one of the most widely taught programming languages at universities. But why the popularity? Essentially Python is fairly easy to learn and comes with a powerful set of libraries that allow you to quickly get up and running with your own NLP tasks and applications. Or in other words you can draw on a wide body of pre-built programs that others have already built so you don't have to re-invent the wheel! \n",
        "\n",
        "* Programming languages like Python tend to be glue-like, i.e. good at linking together assorted software libraries ('libraries'). Quite soon you'll start hearing about some libraries with names like:\n",
        "\n",
        "    * *spaCy*: a high performance NLP toolkit\n",
        "    * *NLTK*: the NLP Toolkit ([there's a book](http://www.nltk.org/book/))\n",
        "    * *scikit-learn*: machine learning\n",
        "    * *gensim*: topic modeling \n",
        "\n",
        "Libraries are what enables Python code to be so concise and expressive, and also fast at working with large amounts of data. It means you need to know your way around some big libraries, so you don't spend all your time endlessly rewriting code that others have already made available.\n",
        "  \n",
        "* Finally, Python also offers lots of support to programmers with a huge following in forums such as StackOverFlow (https://stackoverflow.com/) and CodeAcademy (https://www.codecademy.com/). If you've got a question about Python the chances are that somebody in one of these forums has already provided an answer!\n"
      ]
    },
    {
      "cell_type": "markdown",
      "metadata": {
        "id": "iRUgynggGMW9"
      },
      "source": [
        "## Pre-requisites\n",
        "\n",
        "- No prior programming experience is expected.\n",
        "- You will need to ensure that you have set aside some time after each PyCompLing lab for completing the exercise(s). \n",
        "- Modules 1 and 2 (Michaelmas term) will take place within a Jupyter Notebook environment on the cloud so you don't need to worry about setting up anything. "
      ]
    },
    {
      "cell_type": "markdown",
      "metadata": {
        "id": "pGwXZf9hCQil"
      },
      "source": [
        "## The course structure\n",
        "\n",
        "Python for Computational Linguists will run in 2 Modules:\n",
        "    \n",
        "* Module 1: [Basic Python concepts for corpus processing](../module_1.2/module_1.2.ipynb). Michaelmas, Weeks 1,3,5 and 7 on Tuesdays from 13:00 to 15:00.\n",
        "* Module 2: [Text classification and evaluation](../module_2/module_2.1/module_2.1.ipynb). Lent, Weeks 1,3,5 and 7 on Tuesdays from 13:00 to 15:00 (exact time to be confirmed).\n",
        "    \n",
        "Each Module contains 3 sub-modules (1.2 to 1.4 and 2.1 to 2.3), each of which is expected to take 1 to 3 hours of time to complete. Experience has shown that 1.2 will take longer at about 3 hours so you may wish to make a start on this before the start of term.  Lab classes will be held in weeks 1,3 and 5 for you to practice each sub-module with the support of a Teaching Assistant. The Lab in week 7 is set aside for assessing the exercises you will do:\n",
        "\n",
        "![Course overview](https://github.com/cambridgeltl/python4cl/blob/master/module_1/module_1.1/overview2020.png?raw=1)\n",
        "\n",
        "The content of each Module has been designed to carefully align with the topics we are studying in the lecture classes. For example Module 1.2 aligns with Regular Expressions and Text Normalization which you will study in Lecture 2.\n",
        "\n",
        "Unlike the lectures where we will focus on theory, PyCompLing will emphasize the use of practical hands-on skills for solving NLP problems. By the end of Module 2 you should be well along the road to building your own text processing pipelines using open source Python libraries like spaCy and NLTK.\n"
      ]
    },
    {
      "cell_type": "markdown",
      "metadata": {
        "id": "0PwEI7EpGzU0"
      },
      "source": [
        "\n",
        "## Course Resources\n"
      ]
    },
    {
      "cell_type": "markdown",
      "metadata": {
        "id": "gGjwj9T0G17M"
      },
      "source": [
        "\n",
        "### Textbook\n",
        "\n",
        "The main Li18 course text book is Jurafsky and Martin (J&amp;M, [version 2](https://www.amazon.co.uk/Speech-Language-Processing-International-Version/dp/0135041961/ref=asc_df_0135041961/?tag=googshopuk-21&linkCode=df0&hvadid=310848077451&hvpos=1o3&hvnetw=g&hvrand=4910692407652136116&hvpone=&hvptwo=&hvqmt=&hvdev=c&hvdvcmdl=&hvlocint=&hvlocphy=9044913&hvtargid=pla-453380309962&psc=1&th=1&psc=1)*) with supplementary material from J&amp;M version 3 ([draft online](https://web.stanford.edu/~jurafsky/slp3/)*). These textbooks and the accompanying lectures explain theoretical concepts that we won’t have time to explain in the practical lab. We don’t yet have a course textbook for the Python practical so these Jupyter notebooks will be your primary source.\n"
      ]
    },
    {
      "cell_type": "markdown",
      "metadata": {
        "id": "-1axq7tAG58z"
      },
      "source": [
        "\n",
        "### Lecture notes\n",
        "\n",
        "All lecture notes covering NLP theory are available to you in PDF format on Moodle. The Jupyter Notebooks for the Python practicals are available to you on [Google Colab](https://colab.research.google.com/) and variety of other platforms.  As a student at the University you should not need to request a Google account – this is already available for you to access with your Raven login. More on getting started very soon!\n"
      ]
    },
    {
      "cell_type": "markdown",
      "metadata": {
        "id": "6uAu7TB-8tGp"
      },
      "source": [
        "## Laptops - important notice\n",
        "\n",
        "Originally we had planned on running the Python lab classes within the University Information Services' (UIS) IT training rooms. However we have recently heard that this year UIS will be decomissioning these suites and plans are uncertain about what if anything will replace them. In order to go ahead with the Python course we will therefore need to ask you to **please bring along your own laptops** to the lab sessions. The lecture room we have reserved has power points available at each seat so you should be able to work from mains power for the duration of the lab. All rooms have access to the University's WiFi network - please make sure before each lab that you can connect as all work will be online. For those of you without laptops, the MMLL library has three Chromebooks to lend out. If you need a Chromebook for the lab, please reserve one as early as possible. Please note that you will not find it practical to work from handheld devices - you will need a reasonable sized screen and keyboard to type."
      ]
    },
    {
      "cell_type": "markdown",
      "metadata": {
        "id": "udzXepD0G4PA"
      },
      "source": [
        "## Assignments\n",
        "\n",
        "In the 2021/22 lectures you will continue to receive weekly theory-led assignments which you will hand in for discussion during supervisions. To balance for the increased workload, the number of theory-led assignments will be reduced with slightly more focus on essay writing skills. In 2021 what will change is that you will also receive Python assignments in the PyCompLing labs.\n",
        "\n",
        "* At various points within each Module there will be a variety of formative assessments with hidden answers that you can reveal to allow you to find out what you know. In this way you can better focus your own learning. You should aim to answer all the questions. Remember that the formative assessments are for your information - they will not count towards your grade on the module.\n",
        "    \n",
        "* At the end of each Module **summative assessment questions** (SAQs) will contribute to 20% of the final assessment for the course. The remaining 80% of your assessment will be on the final written examination. The expectation is that SAQs should be completable within the 2 hour laboratory session. However don't worry if you can't complete the work within the lab time, SAQs can be completed away from the lab, e.g. on a Chromebook in the MMLL library. SAQs are checked in person at a sign-up session by Teaching Assistants (TAs) in Week 7 of Michaelmas and Lent terms. At the sign-up session TAs will choose some parts of the SAQs and ask you to explain your answers. The grading session is for the examiners to guard against plagiarism. **Do not search for or view solutions to the SAQs on the Web or share SAQ solutions with your friends**. SAQs should be your own work and Teaching Assistants will be looking to make sure that you understand your own answers. At the sign-up session you should have your notebooks ready and open in a browser, and your code should execute without errors.  You may also be called on by the course coordinator to explain your answer so we can verify their originality. \n",
        "\n",
        "You are free to use markdown cells in your Jupyter notebooks to describe what your program is doing.\n",
        "\n",
        "- For longer exercises, you may want to break your program into multiple cells, with descriptions in \n",
        "  Markdown before cells with code.\n",
        "- Most exercises include some automated testing to provide feedback on the correctness of \n",
        "  your implementations. You are not expected to understand the test syntax to start.   \n",
        "  \n",
        "Remember that you are required to present your summative exercise solutions at a marking session. Check the lab rota for your timetabled marking slot.\n"
      ]
    },
    {
      "cell_type": "markdown",
      "metadata": {
        "id": "EionTxA6G-ph"
      },
      "source": [
        "\n",
        "## Getting help\n",
        "\n",
        "Whilst working through the modules it's encouraged to get help whenever you need it. Almost everyone will get stuck from time to time, so find the best way to get help whenever you need it.\n",
        "\n",
        "First things first: *Don't Panic*. Here are some strategies to get you back on track:\n",
        "\n",
        "1. Double check the instructions in the Jupyter notebook just in case you missed something the first time around.\n",
        "2. One of the best sources of help is the Internet. Do a Google search (e.g. \"Python regular expressions\") or a StackOverflow search (e.g. \"[Python regular expressions](https://stackoverflow.com/search?q=Python+regular+expressions&s=409b2bf1-92d0-447d-81ea-bea83641629e)\")\n",
        "3. Do a search of our [PyCompLing Slack channel](https://pycompling.slack.com) to see if the topic is covered there. If it isn't then consider posting a question yourself for other students to answer.  Also feel free to answer the questions of anyone else.\n",
        "4. Ask a buddy (you will be teamed up in groups of two for the duration of the course)\n",
        "5. Ask a TA during lab time\n",
        "\n",
        "Just remember, we will be looking to see that you understand what your programs are doing and in the sign-up session you will be asked to justify your answers to the assignments. \n",
        "\n"
      ]
    },
    {
      "cell_type": "markdown",
      "metadata": {
        "id": "bB_zDbn5G__A"
      },
      "source": [
        "\n",
        "## Providing help\n",
        "\n",
        "You will be teamed up with one other student so please do feel free to discuss and help each other out (although obviously not for the summative assessment questions!). You can also chime in to answer student questions on the [PyCompLing Slack channel](https://pycompling.slack.com). \n",
        "\n"
      ]
    },
    {
      "cell_type": "markdown",
      "metadata": {
        "id": "Zwc8iyKoHAr3"
      },
      "source": [
        "\n",
        "## Complete the short pre-course survey\n",
        "\n",
        "To make the best of your experience with this Python course it's helpful for you to reflect on your progress. The following questions are intended to help you think about your starting position. You'll have a chance at the end of the course to reflect on these questions again. The questions will also provide valuable insights to help us keep improving the course. To get started click on the cell below and type control plus enter (CTRL+ENTER)\n",
        "\n"
      ]
    },
    {
      "cell_type": "code",
      "metadata": {
        "colab": {
          "base_uri": "https://localhost:8080/",
          "height": 1000
        },
        "id": "kH5TIUSKCQin",
        "outputId": "1fd9b85b-c57a-48ad-fc74-f980a68db8fa"
      },
      "source": [
        "from IPython.display import HTML\n",
        "HTML(\n",
        "\"\"\"\n",
        "<center>\n",
        "<iframe src=\"https://forms.gle/7HX8MTb8NDCfTjpLA\" \n",
        "width=\"480\" height=\"2435\" frameborder=\"0\" marginheight=\"0\" marginwidth=\"0\">Loading...</iframe></center>\n",
        "\"\"\"\n",
        ")\n",
        "\n"
      ],
      "execution_count": null,
      "outputs": [
        {
          "data": {
            "text/html": [
              "\n",
              "<center>\n",
              "<iframe src=\"https://docs.google.com/forms/d/e/1FAIpQLSfs6uR_XBiFbsqnJ3YWdtaGLAQ5_4RLZle5VHuTwLDb4x6pXg/viewform?usp=sf_link\" \n",
              "width=\"480\" height=\"2435\" frameborder=\"0\" marginheight=\"0\" marginwidth=\"0\">Loading...</iframe></center>\n"
            ],
            "text/plain": [
              "<IPython.core.display.HTML object>"
            ]
          },
          "execution_count": 1,
          "metadata": {},
          "output_type": "execute_result"
        }
      ]
    },
    {
      "cell_type": "markdown",
      "metadata": {
        "id": "_Wl3u_WMCQi2"
      },
      "source": [
        "Thank you for taking the time to complete this survey, it's really appreciated.  We hope that you enjoy the course!"
      ]
    },
    {
      "cell_type": "markdown",
      "metadata": {
        "id": "kA0_Y2IOn_mq"
      },
      "source": [
        "# Post-module survey\n",
        "\n",
        "Please complete a [post-module survey](https://forms.gle/rKXF7E9GH2jdySgw8) when you are finished with each sub-module (starting with 1.2, then 1.3 etc.). Thank you!"
      ]
    },
    {
      "cell_type": "markdown",
      "metadata": {
        "id": "n1DjCoZACQi4"
      },
      "source": [
        "## And finally ...\n",
        "\n",
        "You're now ready to start work.  Move on to [Module 1.2](../module_1.2/module_1.2.ipynb) to get started learning Python!"
      ]
    },
    {
      "cell_type": "markdown",
      "metadata": {
        "id": "WOpJyel7CQi6"
      },
      "source": [
        "## Acknowledgements\n",
        "\n",
        "Firstly huge thanks to all the members of the [Language Technology Lab](http://ltl.mml.cam.ac.uk/) at Cambridge University who have given their time so generously to designing, coding and testing PyCompLing!  This includes Marco Basaldella, Flora Liu, Yi Zhu, Costanza Conforti, Edoardo Ponti, Simon Baker and Haim Dubossarsky.  Also thank you to Garth Wells and to Damon Wischik in the Department of Engineering and the Computer Lab respectively for inspirational discussions about their own Python courses. Some parts of these notebooks are derived from those of Garth and Damon's."
      ]
    }
  ]
}